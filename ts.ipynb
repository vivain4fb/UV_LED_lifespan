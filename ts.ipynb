{
 "cells": [
  {
   "cell_type": "code",
   "execution_count": 1,
   "metadata": {},
   "outputs": [],
   "source": [
    "import pandas as pd\n",
    "import matplotlib.pyplot as plt"
   ]
  },
  {
   "cell_type": "markdown",
   "metadata": {},
   "source": [
    "# Univariate Time Series"
   ]
  },
  {
   "cell_type": "code",
   "execution_count": 2,
   "metadata": {},
   "outputs": [],
   "source": [
    "df = pd.read_csv('IT UV LED  275nm Intensity-90_11V90mA_500um gap_Device voltgae10V_60pulses.csv',header=None)"
   ]
  },
  {
   "cell_type": "code",
   "execution_count": 3,
   "metadata": {},
   "outputs": [],
   "source": [
    "df.columns = ['time','voltage']"
   ]
  },
  {
   "cell_type": "code",
   "execution_count": 4,
   "metadata": {},
   "outputs": [],
   "source": [
    "df = df['voltage']"
   ]
  },
  {
   "cell_type": "code",
   "execution_count": 5,
   "metadata": {},
   "outputs": [
    {
     "data": {
      "text/plain": [
       "count    2.322100e+04\n",
       "mean     1.556410e-12\n",
       "std      4.795832e-13\n",
       "min      8.387570e-13\n",
       "25%      1.193170e-12\n",
       "50%      1.456500e-12\n",
       "75%      1.848100e-12\n",
       "max      3.921270e-12\n",
       "Name: voltage, dtype: float64"
      ]
     },
     "execution_count": 5,
     "metadata": {},
     "output_type": "execute_result"
    }
   ],
   "source": [
    "df.describe()"
   ]
  },
  {
   "cell_type": "code",
   "execution_count": 6,
   "metadata": {},
   "outputs": [
    {
     "data": {
      "text/plain": [
       "0        2.979520e-12\n",
       "1        2.413630e-12\n",
       "2        2.280830e-12\n",
       "3        2.213000e-12\n",
       "4        2.194880e-12\n",
       "             ...     \n",
       "23216    8.841750e-13\n",
       "23217    8.996720e-13\n",
       "23218    8.767840e-13\n",
       "23219    8.445980e-13\n",
       "23220    8.685590e-13\n",
       "Name: voltage, Length: 23221, dtype: float64"
      ]
     },
     "execution_count": 6,
     "metadata": {},
     "output_type": "execute_result"
    }
   ],
   "source": [
    "df"
   ]
  },
  {
   "cell_type": "code",
   "execution_count": 6,
   "metadata": {},
   "outputs": [
    {
     "data": {
      "text/plain": [
       "0                 NaN\n",
       "1        2.979520e-12\n",
       "2        2.413630e-12\n",
       "3        2.280830e-12\n",
       "4        2.213000e-12\n",
       "             ...     \n",
       "23216    8.946660e-13\n",
       "23217    8.841750e-13\n",
       "23218    8.996720e-13\n",
       "23219    8.767840e-13\n",
       "23220    8.445980e-13\n",
       "Name: voltage, Length: 23221, dtype: float64"
      ]
     },
     "execution_count": 6,
     "metadata": {},
     "output_type": "execute_result"
    }
   ],
   "source": [
    "df.shift(1)"
   ]
  },
  {
   "cell_type": "code",
   "execution_count": 7,
   "metadata": {},
   "outputs": [],
   "source": [
    "shifts = pd.DataFrame(\n",
    "    {\n",
    "        'present': df,\n",
    "        'past': df.shift(1)\n",
    "    }\n",
    ")"
   ]
  },
  {
   "cell_type": "code",
   "execution_count": 8,
   "metadata": {},
   "outputs": [
    {
     "data": {
      "text/html": [
       "<div>\n",
       "<style scoped>\n",
       "    .dataframe tbody tr th:only-of-type {\n",
       "        vertical-align: middle;\n",
       "    }\n",
       "\n",
       "    .dataframe tbody tr th {\n",
       "        vertical-align: top;\n",
       "    }\n",
       "\n",
       "    .dataframe thead th {\n",
       "        text-align: right;\n",
       "    }\n",
       "</style>\n",
       "<table border=\"1\" class=\"dataframe\">\n",
       "  <thead>\n",
       "    <tr style=\"text-align: right;\">\n",
       "      <th></th>\n",
       "      <th>present</th>\n",
       "      <th>past</th>\n",
       "    </tr>\n",
       "  </thead>\n",
       "  <tbody>\n",
       "    <tr>\n",
       "      <th>0</th>\n",
       "      <td>2.979520e-12</td>\n",
       "      <td>NaN</td>\n",
       "    </tr>\n",
       "    <tr>\n",
       "      <th>1</th>\n",
       "      <td>2.413630e-12</td>\n",
       "      <td>2.979520e-12</td>\n",
       "    </tr>\n",
       "    <tr>\n",
       "      <th>2</th>\n",
       "      <td>2.280830e-12</td>\n",
       "      <td>2.413630e-12</td>\n",
       "    </tr>\n",
       "    <tr>\n",
       "      <th>3</th>\n",
       "      <td>2.213000e-12</td>\n",
       "      <td>2.280830e-12</td>\n",
       "    </tr>\n",
       "    <tr>\n",
       "      <th>4</th>\n",
       "      <td>2.194880e-12</td>\n",
       "      <td>2.213000e-12</td>\n",
       "    </tr>\n",
       "    <tr>\n",
       "      <th>...</th>\n",
       "      <td>...</td>\n",
       "      <td>...</td>\n",
       "    </tr>\n",
       "    <tr>\n",
       "      <th>23216</th>\n",
       "      <td>8.841750e-13</td>\n",
       "      <td>8.946660e-13</td>\n",
       "    </tr>\n",
       "    <tr>\n",
       "      <th>23217</th>\n",
       "      <td>8.996720e-13</td>\n",
       "      <td>8.841750e-13</td>\n",
       "    </tr>\n",
       "    <tr>\n",
       "      <th>23218</th>\n",
       "      <td>8.767840e-13</td>\n",
       "      <td>8.996720e-13</td>\n",
       "    </tr>\n",
       "    <tr>\n",
       "      <th>23219</th>\n",
       "      <td>8.445980e-13</td>\n",
       "      <td>8.767840e-13</td>\n",
       "    </tr>\n",
       "    <tr>\n",
       "      <th>23220</th>\n",
       "      <td>8.685590e-13</td>\n",
       "      <td>8.445980e-13</td>\n",
       "    </tr>\n",
       "  </tbody>\n",
       "</table>\n",
       "<p>23221 rows × 2 columns</p>\n",
       "</div>"
      ],
      "text/plain": [
       "            present          past\n",
       "0      2.979520e-12           NaN\n",
       "1      2.413630e-12  2.979520e-12\n",
       "2      2.280830e-12  2.413630e-12\n",
       "3      2.213000e-12  2.280830e-12\n",
       "4      2.194880e-12  2.213000e-12\n",
       "...             ...           ...\n",
       "23216  8.841750e-13  8.946660e-13\n",
       "23217  8.996720e-13  8.841750e-13\n",
       "23218  8.767840e-13  8.996720e-13\n",
       "23219  8.445980e-13  8.767840e-13\n",
       "23220  8.685590e-13  8.445980e-13\n",
       "\n",
       "[23221 rows x 2 columns]"
      ]
     },
     "execution_count": 8,
     "metadata": {},
     "output_type": "execute_result"
    }
   ],
   "source": [
    "shifts"
   ]
  },
  {
   "cell_type": "code",
   "execution_count": 9,
   "metadata": {},
   "outputs": [],
   "source": [
    "shifts = shifts.dropna()"
   ]
  },
  {
   "cell_type": "code",
   "execution_count": 10,
   "metadata": {},
   "outputs": [
    {
     "data": {
      "text/html": [
       "<div>\n",
       "<style scoped>\n",
       "    .dataframe tbody tr th:only-of-type {\n",
       "        vertical-align: middle;\n",
       "    }\n",
       "\n",
       "    .dataframe tbody tr th {\n",
       "        vertical-align: top;\n",
       "    }\n",
       "\n",
       "    .dataframe thead th {\n",
       "        text-align: right;\n",
       "    }\n",
       "</style>\n",
       "<table border=\"1\" class=\"dataframe\">\n",
       "  <thead>\n",
       "    <tr style=\"text-align: right;\">\n",
       "      <th></th>\n",
       "      <th>present</th>\n",
       "      <th>past</th>\n",
       "    </tr>\n",
       "  </thead>\n",
       "  <tbody>\n",
       "    <tr>\n",
       "      <th>present</th>\n",
       "      <td>1.000000</td>\n",
       "      <td>0.974653</td>\n",
       "    </tr>\n",
       "    <tr>\n",
       "      <th>past</th>\n",
       "      <td>0.974653</td>\n",
       "      <td>1.000000</td>\n",
       "    </tr>\n",
       "  </tbody>\n",
       "</table>\n",
       "</div>"
      ],
      "text/plain": [
       "          present      past\n",
       "present  1.000000  0.974653\n",
       "past     0.974653  1.000000"
      ]
     },
     "execution_count": 10,
     "metadata": {},
     "output_type": "execute_result"
    }
   ],
   "source": [
    "shifts.corr()"
   ]
  },
  {
   "cell_type": "code",
   "execution_count": 12,
   "metadata": {},
   "outputs": [
    {
     "data": {
      "text/plain": [
       "<AxesSubplot:>"
      ]
     },
     "execution_count": 12,
     "metadata": {},
     "output_type": "execute_result"
    },
    {
     "data": {
      "image/png": "[encoded data removed]",
      "text/plain": [
       "<Figure size 432x288 with 1 Axes>"
      ]
     },
     "metadata": {
      "needs_background": "light"
     },
     "output_type": "display_data"
    }
   ],
   "source": [
    "df.shift(1).plot()"
   ]
  },
  {
   "cell_type": "code",
   "execution_count": 13,
   "metadata": {},
   "outputs": [
    {
     "name": "stdout",
     "output_type": "stream",
     "text": [
      "(-13.276509982367484, 7.845952005375735e-25, 47, 23173, {'1%': -3.430632226061599, '5%': -2.861664734940975, '10%': -2.566836392837296}, -1318503.9025781269)\n",
      "stationary\n"
     ]
    }
   ],
   "source": [
    "from statsmodels.tsa.stattools import adfuller\n",
    "result = adfuller(df.dropna())\n",
    "print(result)\n",
    "\n",
    "pvalue = result[1]\n",
    "if pvalue < 0.05:\n",
    "    print('stationary')\n",
    "else:\n",
    "    print('not stationary')"
   ]
  },
  {
   "cell_type": "code",
   "execution_count": 16,
   "metadata": {},
   "outputs": [
    {
     "data": {
      "image/png": "[encoded data removed]",
      "text/plain": [
       "<Figure size 432x288 with 1 Axes>"
      ]
     },
     "metadata": {
      "needs_background": "light"
     },
     "output_type": "display_data"
    }
   ],
   "source": [
    "differenced_data = df.diff().dropna()\n",
    "\n",
    "# Plot the differenced data\n",
    "ax = differenced_data.plot()\n",
    "ax.set_ylabel('Differenced voltage')\n",
    "plt.show()"
   ]
  },
  {
   "cell_type": "code",
   "execution_count": 17,
   "metadata": {},
   "outputs": [
    {
     "data": {
      "text/plain": [
       "1       -5.658900e-13\n",
       "2       -1.328000e-13\n",
       "3       -6.783000e-14\n",
       "4       -1.812000e-14\n",
       "5       -4.685000e-14\n",
       "             ...     \n",
       "23216   -1.049100e-14\n",
       "23217    1.549700e-14\n",
       "23218   -2.288800e-14\n",
       "23219   -3.218600e-14\n",
       "23220    2.396100e-14\n",
       "Name: voltage, Length: 23220, dtype: float64"
      ]
     },
     "execution_count": 17,
     "metadata": {},
     "output_type": "execute_result"
    }
   ],
   "source": [
    "differenced_data"
   ]
  },
  {
   "cell_type": "code",
   "execution_count": 15,
   "metadata": {},
   "outputs": [
    {
     "data": {
      "image/png": "[encoded data removed]",
      "text/plain": [
       "<Figure size 432x288 with 1 Axes>"
      ]
     },
     "metadata": {
      "needs_background": "light"
     },
     "output_type": "display_data"
    },
    {
     "data": {
      "text/html": [
       "<div>\n",
       "<style scoped>\n",
       "    .dataframe tbody tr th:only-of-type {\n",
       "        vertical-align: middle;\n",
       "    }\n",
       "\n",
       "    .dataframe tbody tr th {\n",
       "        vertical-align: top;\n",
       "    }\n",
       "\n",
       "    .dataframe thead th {\n",
       "        text-align: right;\n",
       "    }\n",
       "</style>\n",
       "<table border=\"1\" class=\"dataframe\">\n",
       "  <thead>\n",
       "    <tr style=\"text-align: right;\">\n",
       "      <th></th>\n",
       "      <th>present</th>\n",
       "      <th>past</th>\n",
       "    </tr>\n",
       "  </thead>\n",
       "  <tbody>\n",
       "    <tr>\n",
       "      <th>present</th>\n",
       "      <td>1.00000</td>\n",
       "      <td>-0.08003</td>\n",
       "    </tr>\n",
       "    <tr>\n",
       "      <th>past</th>\n",
       "      <td>-0.08003</td>\n",
       "      <td>1.00000</td>\n",
       "    </tr>\n",
       "  </tbody>\n",
       "</table>\n",
       "</div>"
      ],
      "text/plain": [
       "         present     past\n",
       "present  1.00000 -0.08003\n",
       "past    -0.08003  1.00000"
      ]
     },
     "execution_count": 15,
     "metadata": {},
     "output_type": "execute_result"
    }
   ],
   "source": [
    "shifts_diff = pd.DataFrame(\n",
    "    {\n",
    "        'present': differenced_data,\n",
    "        'past': differenced_data.shift(1)\n",
    "    }\n",
    ")\n",
    "\n",
    "ax = shifts_diff.plot()\n",
    "ax.set_ylabel('Differenced voltage')\n",
    "plt.show()\n",
    "\n",
    "shifts_diff.corr()"
   ]
  },
  {
   "cell_type": "code",
   "execution_count": 16,
   "metadata": {},
   "outputs": [
    {
     "data": {
      "image/png": "[encoded data removed]",
      "text/plain": [
       "<Figure size 432x288 with 1 Axes>"
      ]
     },
     "metadata": {
      "needs_background": "light"
     },
     "output_type": "display_data"
    }
   ],
   "source": [
    "from statsmodels.graphics.tsaplots import plot_acf\n",
    "import matplotlib.pyplot as plt\n",
    "\n",
    "plot_acf(differenced_data, lags=500)\n",
    "plt.show()"
   ]
  },
  {
   "cell_type": "code",
   "execution_count": 46,
   "metadata": {},
   "outputs": [
    {
     "name": "stderr",
     "output_type": "stream",
     "text": [
      "/home/alchemist/anaconda3/envs/sclone/lib/python3.8/site-packages/statsmodels/graphics/tsaplots.py:348: FutureWarning: The default method 'yw' can produce PACF values outside of the [-1,1] interval. After 0.13, the default will change tounadjusted Yule-Walker ('ywm'). You can use this method now by setting method='ywm'.\n",
      "  warnings.warn(\n"
     ]
    },
    {
     "data": {
      "image/png": "[encoded data removed]",
      "text/plain": [
       "<Figure size 432x288 with 1 Axes>"
      ]
     },
     "metadata": {
      "needs_background": "light"
     },
     "output_type": "display_data"
    }
   ],
   "source": [
    "from statsmodels.graphics.tsaplots import plot_pacf\n",
    "plot_pacf(differenced_data, lags = 500)\n",
    "plt.show()"
   ]
  },
  {
   "cell_type": "markdown",
   "metadata": {},
   "source": [
    "# AR"
   ]
  },
  {
   "cell_type": "code",
   "execution_count": null,
   "metadata": {},
   "outputs": [],
   "source": [
    "x6 = c1x1+c2x2+x3+x4+x5+e"
   ]
  },
  {
   "cell_type": "code",
   "execution_count": 31,
   "metadata": {},
   "outputs": [
    {
     "name": "stdout",
     "output_type": "stream",
     "text": [
      "coefficients:  [0.07209939 0.04975948 0.04046447 0.03661279 0.02962227 0.02513086\n",
      " 0.02406975 0.02144079 0.01944008 0.01772145 0.01661138 0.01421966\n",
      " 0.01530591 0.01396965 0.01131751 0.0119117  0.01082335 0.0106327\n",
      " 0.0093052  0.00820852 0.01106351 0.0066517  0.00736175 0.00622204\n",
      " 0.00995644 0.00518415 0.00578183 0.00516281 0.00774675 0.00369467\n",
      " 0.00518545 0.00329585 0.00436207 0.00407888 0.00345134 0.0025632\n",
      " 0.00497637 0.00188843 0.0035477  0.00383531 0.00333255 0.00389002\n",
      " 0.00306611 0.00324262 0.0035532  0.00600828 0.00658017 0.01017963\n",
      " 0.01749838 0.60534611]\n",
      "sigma:  8.500329318577105e-14\n"
     ]
    }
   ],
   "source": [
    "from statsmodels.regression.linear_model import yule_walker\n",
    "coefficients, sigma = yule_walker(differenced_data, order = 50)\n",
    "print('coefficients: ', -coefficients)\n",
    "print('sigma: ', sigma)"
   ]
  },
  {
   "cell_type": "code",
   "execution_count": 14,
   "metadata": {},
   "outputs": [
    {
     "ename": "NameError",
     "evalue": "name 'differenced_data' is not defined",
     "output_type": "error",
     "traceback": [
      "\u001b[1;31m---------------------------------------------------------------------------\u001b[0m",
      "\u001b[1;31mNameError\u001b[0m                                 Traceback (most recent call last)",
      "\u001b[1;32mc:\\Users\\VIVIAN\\Downloads\\ts.ipynb Cell 22\u001b[0m in \u001b[0;36m<cell line: 1>\u001b[1;34m()\u001b[0m\n\u001b[1;32m----> <a href='vscode-notebook-cell:/c%3A/Users/VIVIAN/Downloads/ts.ipynb#X46sZmlsZQ%3D%3D?line=0'>1</a>\u001b[0m differenced_data\n",
      "\u001b[1;31mNameError\u001b[0m: name 'differenced_data' is not defined"
     ]
    }
   ],
   "source": [
    "differenced_data"
   ]
  },
  {
   "cell_type": "code",
   "execution_count": 45,
   "metadata": {},
   "outputs": [
    {
     "name": "stdout",
     "output_type": "stream",
     "text": [
      "Test R2: 0.9674762503981225\n"
     ]
    },
    {
     "data": {
      "image/png": "[encoded data removed]",
      "text/plain": [
       "<Figure size 432x288 with 1 Axes>"
      ]
     },
     "metadata": {
      "needs_background": "light"
     },
     "output_type": "display_data"
    }
   ],
   "source": [
    "from sklearn.metrics import r2_score\n",
    "\n",
    "train = list(differenced_data)[:-1000]\n",
    "test = list(df)[-1000:]\n",
    "\n",
    "coefficients, sigma = yule_walker(train, order = 100)\n",
    "\n",
    "val_list = train\n",
    "\n",
    "val_list.reverse()\n",
    "\n",
    "n_steps = 1000\n",
    "\n",
    "\n",
    "for i in range(n_steps):\n",
    "    \n",
    "    new_val = 0\n",
    "    for j in range(len(coefficients)):\n",
    "        \n",
    "        new_val += coefficients[j] * val_list[j] #c1*x1+c2*x2...c100*x100\n",
    "    \n",
    "    val_list.insert(0, new_val)\n",
    "\n",
    "val_list.reverse()\n",
    "\n",
    "val_list = [df[0]] + val_list\n",
    "new_val_list = pd.Series(val_list).cumsum()\n",
    "\n",
    "validation = pd.DataFrame({\n",
    "    'original': df.reset_index(drop=True),\n",
    "    'pred': new_val_list })\n",
    "\n",
    "print('Test R2:', r2_score(validation.iloc[-1000:, 0], validation.iloc[-1000:, 1]))\n",
    "\n",
    "\n",
    "plt.plot(range(0, 23221), validation)\n",
    "plt.legend(validation.columns)\n",
    "plt.ylabel('Voltage')\n",
    "plt.show()"
   ]
  },
  {
   "cell_type": "code",
   "execution_count": null,
   "metadata": {},
   "outputs": [],
   "source": [
    "# AR, MA, ARMA, ARIMA, SARIMA, SARIMAX"
   ]
  },
  {
   "cell_type": "code",
   "execution_count": 19,
   "metadata": {},
   "outputs": [],
   "source": [
    "a = pd.Series([4,5,6,7]).diff()"
   ]
  },
  {
   "cell_type": "code",
   "execution_count": 22,
   "metadata": {},
   "outputs": [
    {
     "data": {
      "text/plain": [
       "0    NaN\n",
       "1    1.0\n",
       "2    1.0\n",
       "3    1.0\n",
       "dtype: float64"
      ]
     },
     "execution_count": 22,
     "metadata": {},
     "output_type": "execute_result"
    }
   ],
   "source": [
    "a"
   ]
  },
  {
   "cell_type": "code",
   "execution_count": 24,
   "metadata": {},
   "outputs": [],
   "source": [
    "a[0] = 4"
   ]
  },
  {
   "cell_type": "code",
   "execution_count": 26,
   "metadata": {},
   "outputs": [
    {
     "data": {
      "text/plain": [
       "0    4.0\n",
       "1    5.0\n",
       "2    6.0\n",
       "3    7.0\n",
       "dtype: float64"
      ]
     },
     "execution_count": 26,
     "metadata": {},
     "output_type": "execute_result"
    }
   ],
   "source": [
    "a.cumsum()"
   ]
  },
  {
   "cell_type": "code",
   "execution_count": 23,
   "metadata": {},
   "outputs": [
    {
     "ename": "AttributeError",
     "evalue": "'numpy.float64' object has no attribute 'fillna'",
     "output_type": "error",
     "traceback": [
      "\u001b[1;31m---------------------------------------------------------------------------\u001b[0m",
      "\u001b[1;31mAttributeError\u001b[0m                            Traceback (most recent call last)",
      "\u001b[1;32mc:\\Users\\VIVIAN\\Downloads\\ts.ipynb Cell 27\u001b[0m in \u001b[0;36m<cell line: 1>\u001b[1;34m()\u001b[0m\n\u001b[1;32m----> <a href='vscode-notebook-cell:/c%3A/Users/VIVIAN/Downloads/ts.ipynb#X52sZmlsZQ%3D%3D?line=0'>1</a>\u001b[0m a[\u001b[39m0\u001b[39;49m]\u001b[39m.\u001b[39;49mfillna(\u001b[39m4\u001b[39m)\n",
      "\u001b[1;31mAttributeError\u001b[0m: 'numpy.float64' object has no attribute 'fillna'"
     ]
    }
   ],
   "source": [
    "a.fillna(4)"
   ]
  },
  {
   "cell_type": "markdown",
   "metadata": {},
   "source": [
    "# MA"
   ]
  },
  {
   "cell_type": "code",
   "execution_count": 29,
   "metadata": {},
   "outputs": [
    {
     "name": "stderr",
     "output_type": "stream",
     "text": [
      "c:\\Users\\VIVIAN\\AppData\\Local\\Programs\\Python\\Python310\\lib\\site-packages\\statsmodels\\tsa\\base\\tsa_model.py:471: ValueWarning: An unsupported index was provided and will be ignored when e.g. forecasting.\n",
      "  self._init_dates(dates, freq)\n",
      "c:\\Users\\VIVIAN\\AppData\\Local\\Programs\\Python\\Python310\\lib\\site-packages\\statsmodels\\tsa\\base\\tsa_model.py:471: ValueWarning: An unsupported index was provided and will be ignored when e.g. forecasting.\n",
      "  self._init_dates(dates, freq)\n",
      "c:\\Users\\VIVIAN\\AppData\\Local\\Programs\\Python\\Python310\\lib\\site-packages\\statsmodels\\tsa\\base\\tsa_model.py:471: ValueWarning: An unsupported index was provided and will be ignored when e.g. forecasting.\n",
      "  self._init_dates(dates, freq)\n",
      "c:\\Users\\VIVIAN\\AppData\\Local\\Programs\\Python\\Python310\\lib\\site-packages\\statsmodels\\base\\model.py:604: ConvergenceWarning: Maximum Likelihood optimization failed to converge. Check mle_retvals\n",
      "  warnings.warn(\"Maximum Likelihood optimization failed to \"\n"
     ]
    },
    {
     "name": "stdout",
     "output_type": "stream",
     "text": [
      "-1896909136635668.0\n",
      "-1526162627562983.8\n"
     ]
    },
    {
     "name": "stderr",
     "output_type": "stream",
     "text": [
      "c:\\Users\\VIVIAN\\AppData\\Local\\Programs\\Python\\Python310\\lib\\site-packages\\statsmodels\\tsa\\base\\tsa_model.py:834: ValueWarning: No supported index is available. Prediction results will be given with an integer index beginning at `start`.\n",
      "  return get_prediction_index(\n"
     ]
    }
   ],
   "source": [
    "from sklearn.metrics import r2_score\n",
    "from statsmodels.tsa.arima.model import ARIMA\n",
    "train = differenced_data[0:-1000]\n",
    "test = differenced_data[-1000:]\n",
    "\n",
    "# Forecast the first MA(10) model\n",
    "mod = ARIMA(train, order=(0,0,10))\n",
    "res = mod.fit()\n",
    "\n",
    "orig_data = differenced_data\n",
    "pred = res.predict()\n",
    "fcst = res.forecast(steps = len(test))\n",
    "\n",
    "print(r2_score(train, pred))\n",
    "print(r2_score(test, fcst))"
   ]
  },
  {
   "cell_type": "markdown",
   "metadata": {},
   "source": [
    "# ARMA"
   ]
  },
  {
   "cell_type": "code",
   "execution_count": 64,
   "metadata": {},
   "outputs": [
    {
     "name": "stderr",
     "output_type": "stream",
     "text": [
      "/home/alchemist/anaconda3/envs/sclone/lib/python3.8/site-packages/statsmodels/base/model.py:604: ConvergenceWarning: Maximum Likelihood optimization failed to converge. Check mle_retvals\n",
      "  warnings.warn(\"Maximum Likelihood optimization failed to \"\n"
     ]
    },
    {
     "name": "stdout",
     "output_type": "stream",
     "text": [
      "0.9498427092639081\n"
     ]
    },
    {
     "data": {
      "image/png": "[encoded data removed]",
      "text/plain": [
       "<Figure size 432x288 with 1 Axes>"
      ]
     },
     "metadata": {
      "needs_background": "light"
     },
     "output_type": "display_data"
    }
   ],
   "source": [
    "mod = ARIMA(list(df), order=(1,0,1))\n",
    "res = mod.fit()\n",
    "pred = res.predict()\n",
    "print(r2_score(list(df), pred))\n",
    "\n",
    "plt.plot(list(df))\n",
    "plt.plot(pred)\n",
    "plt.legend(['Actual Voltage', 'Predicted Voltage'])\n",
    "plt.xlabel('Timesteps')\n",
    "plt.show()"
   ]
  },
  {
   "cell_type": "code",
   "execution_count": 65,
   "metadata": {},
   "outputs": [
    {
     "name": "stderr",
     "output_type": "stream",
     "text": [
      "/home/alchemist/anaconda3/envs/sclone/lib/python3.8/site-packages/statsmodels/tsa/statespace/mlemodel.py:2968: RuntimeWarning: divide by zero encountered in true_divide\n",
      "  return self.params / self.bse\n"
     ]
    },
    {
     "data": {
      "text/html": [
       "<table class=\"simpletable\">\n",
       "<caption>SARIMAX Results</caption>\n",
       "<tr>\n",
       "  <th>Dep. Variable:</th>           <td>y</td>        <th>  No. Observations:  </th>    <td>23221</td>   \n",
       "</tr>\n",
       "<tr>\n",
       "  <th>Model:</th>            <td>ARIMA(1, 0, 1)</td>  <th>  Log Likelihood     </th> <td>246001.468</td> \n",
       "</tr>\n",
       "<tr>\n",
       "  <th>Date:</th>            <td>Fri, 09 Sep 2022</td> <th>  AIC                </th> <td>-491994.935</td>\n",
       "</tr>\n",
       "<tr>\n",
       "  <th>Time:</th>                <td>14:10:38</td>     <th>  BIC                </th> <td>-491962.724</td>\n",
       "</tr>\n",
       "<tr>\n",
       "  <th>Sample:</th>                  <td>0</td>        <th>  HQIC               </th> <td>-491984.473</td>\n",
       "</tr>\n",
       "<tr>\n",
       "  <th></th>                     <td> - 23221</td>     <th>                     </th>      <td> </td>     \n",
       "</tr>\n",
       "<tr>\n",
       "  <th>Covariance Type:</th>        <td>opg</td>       <th>                     </th>      <td> </td>     \n",
       "</tr>\n",
       "</table>\n",
       "<table class=\"simpletable\">\n",
       "<tr>\n",
       "     <td></td>       <th>coef</th>     <th>std err</th>      <th>z</th>      <th>P>|z|</th>  <th>[0.025</th>    <th>0.975]</th>  \n",
       "</tr>\n",
       "<tr>\n",
       "  <th>const</th>  <td> 1.556e-12</td> <td>       -0</td> <td>     -inf</td> <td> 0.000</td> <td> 1.56e-12</td> <td> 1.56e-12</td>\n",
       "</tr>\n",
       "<tr>\n",
       "  <th>ar.L1</th>  <td>    0.9783</td> <td> 2.52e-23</td> <td> 3.88e+22</td> <td> 0.000</td> <td>    0.978</td> <td>    0.978</td>\n",
       "</tr>\n",
       "<tr>\n",
       "  <th>ma.L1</th>  <td>   -0.0734</td> <td> 1.09e-24</td> <td>-6.75e+22</td> <td> 0.000</td> <td>   -0.073</td> <td>   -0.073</td>\n",
       "</tr>\n",
       "<tr>\n",
       "  <th>sigma2</th> <td>     1e-10</td> <td>  1.3e-11</td> <td>    7.689</td> <td> 0.000</td> <td> 7.45e-11</td> <td> 1.25e-10</td>\n",
       "</tr>\n",
       "</table>\n",
       "<table class=\"simpletable\">\n",
       "<tr>\n",
       "  <th>Ljung-Box (L1) (Q):</th>     <td>0.01</td> <th>  Jarque-Bera (JB):  </th> <td>6987676.12</td>\n",
       "</tr>\n",
       "<tr>\n",
       "  <th>Prob(Q):</th>                <td>0.92</td> <th>  Prob(JB):          </th>    <td>0.00</td>   \n",
       "</tr>\n",
       "<tr>\n",
       "  <th>Heteroskedasticity (H):</th> <td>0.44</td> <th>  Skew:              </th>    <td>7.94</td>   \n",
       "</tr>\n",
       "<tr>\n",
       "  <th>Prob(H) (two-sided):</th>    <td>0.00</td> <th>  Kurtosis:          </th>    <td>86.49</td>  \n",
       "</tr>\n",
       "</table><br/><br/>Warnings:<br/>[1] Covariance matrix calculated using the outer product of gradients (complex-step).<br/>[2] Covariance matrix is singular or near-singular, with condition number    inf. Standard errors may be unstable."
      ],
      "text/plain": [
       "<class 'statsmodels.iolib.summary.Summary'>\n",
       "\"\"\"\n",
       "                               SARIMAX Results                                \n",
       "==============================================================================\n",
       "Dep. Variable:                      y   No. Observations:                23221\n",
       "Model:                 ARIMA(1, 0, 1)   Log Likelihood              246001.468\n",
       "Date:                Fri, 09 Sep 2022   AIC                        -491994.935\n",
       "Time:                        14:10:38   BIC                        -491962.724\n",
       "Sample:                             0   HQIC                       -491984.473\n",
       "                              - 23221                                         \n",
       "Covariance Type:                  opg                                         \n",
       "==============================================================================\n",
       "                 coef    std err          z      P>|z|      [0.025      0.975]\n",
       "------------------------------------------------------------------------------\n",
       "const       1.556e-12         -0       -inf      0.000    1.56e-12    1.56e-12\n",
       "ar.L1          0.9783   2.52e-23   3.88e+22      0.000       0.978       0.978\n",
       "ma.L1         -0.0734   1.09e-24  -6.75e+22      0.000      -0.073      -0.073\n",
       "sigma2          1e-10    1.3e-11      7.689      0.000    7.45e-11    1.25e-10\n",
       "===================================================================================\n",
       "Ljung-Box (L1) (Q):                   0.01   Jarque-Bera (JB):           6987676.12\n",
       "Prob(Q):                              0.92   Prob(JB):                         0.00\n",
       "Heteroskedasticity (H):               0.44   Skew:                             7.94\n",
       "Prob(H) (two-sided):                  0.00   Kurtosis:                        86.49\n",
       "===================================================================================\n",
       "\n",
       "Warnings:\n",
       "[1] Covariance matrix calculated using the outer product of gradients (complex-step).\n",
       "[2] Covariance matrix is singular or near-singular, with condition number    inf. Standard errors may be unstable.\n",
       "\"\"\""
      ]
     },
     "execution_count": 65,
     "metadata": {},
     "output_type": "execute_result"
    }
   ],
   "source": [
    "res.summary()"
   ]
  },
  {
   "cell_type": "markdown",
   "metadata": {},
   "source": [
    "# ARIMA"
   ]
  },
  {
   "cell_type": "code",
   "execution_count": 31,
   "metadata": {},
   "outputs": [
    {
     "name": "stderr",
     "output_type": "stream",
     "text": [
      "c:\\Users\\VIVIAN\\AppData\\Local\\Programs\\Python\\Python310\\lib\\site-packages\\statsmodels\\base\\model.py:604: ConvergenceWarning: Maximum Likelihood optimization failed to converge. Check mle_retvals\n",
      "  warnings.warn(\"Maximum Likelihood optimization failed to \"\n",
      "c:\\Users\\VIVIAN\\AppData\\Local\\Programs\\Python\\Python310\\lib\\site-packages\\statsmodels\\base\\model.py:604: ConvergenceWarning: Maximum Likelihood optimization failed to converge. Check mle_retvals\n",
      "  warnings.warn(\"Maximum Likelihood optimization failed to \"\n",
      "c:\\Users\\VIVIAN\\AppData\\Local\\Programs\\Python\\Python310\\lib\\site-packages\\statsmodels\\base\\model.py:604: ConvergenceWarning: Maximum Likelihood optimization failed to converge. Check mle_retvals\n",
      "  warnings.warn(\"Maximum Likelihood optimization failed to \"\n",
      "c:\\Users\\VIVIAN\\AppData\\Local\\Programs\\Python\\Python310\\lib\\site-packages\\statsmodels\\base\\model.py:604: ConvergenceWarning: Maximum Likelihood optimization failed to converge. Check mle_retvals\n",
      "  warnings.warn(\"Maximum Likelihood optimization failed to \"\n",
      "c:\\Users\\VIVIAN\\AppData\\Local\\Programs\\Python\\Python310\\lib\\site-packages\\statsmodels\\base\\model.py:604: ConvergenceWarning: Maximum Likelihood optimization failed to converge. Check mle_retvals\n",
      "  warnings.warn(\"Maximum Likelihood optimization failed to \"\n",
      "c:\\Users\\VIVIAN\\AppData\\Local\\Programs\\Python\\Python310\\lib\\site-packages\\statsmodels\\base\\model.py:604: ConvergenceWarning: Maximum Likelihood optimization failed to converge. Check mle_retvals\n",
      "  warnings.warn(\"Maximum Likelihood optimization failed to \"\n",
      "c:\\Users\\VIVIAN\\AppData\\Local\\Programs\\Python\\Python310\\lib\\site-packages\\statsmodels\\base\\model.py:604: ConvergenceWarning: Maximum Likelihood optimization failed to converge. Check mle_retvals\n",
      "  warnings.warn(\"Maximum Likelihood optimization failed to \"\n",
      "c:\\Users\\VIVIAN\\AppData\\Local\\Programs\\Python\\Python310\\lib\\site-packages\\statsmodels\\base\\model.py:604: ConvergenceWarning: Maximum Likelihood optimization failed to converge. Check mle_retvals\n",
      "  warnings.warn(\"Maximum Likelihood optimization failed to \"\n"
     ]
    },
    {
     "data": {
      "image/png": "[encoded data removed]",
      "text/plain": [
       "<Figure size 432x288 with 1 Axes>"
      ]
     },
     "metadata": {
      "needs_background": "light"
     },
     "output_type": "display_data"
    }
   ],
   "source": [
    "import numpy as np\n",
    "data = df.values\n",
    "X_train, X_test = data[:-10], data[-10:]\n",
    "X_test_orig = X_test.copy()\n",
    "\n",
    "forecast = []\n",
    "for step in range(10):\n",
    "\n",
    "    mod = ARIMA(X_train, order=(1,1,1))\n",
    "    res = mod.fit()\n",
    "    forecast.append(res.forecast(steps=1))\n",
    "    X_train = np.concatenate((X_train, X_test[0:1]))\n",
    "    X_test = X_test[1:]\n",
    "    \n",
    "plt.plot(forecast)\n",
    "plt.plot(X_test_orig)\n",
    "plt.legend(['Predicted', 'Actual'])\n",
    "plt.ylabel('Voltage')\n",
    "plt.xlabel('Time Step of Test Data')\n",
    "plt.show()"
   ]
  },
  {
   "cell_type": "code",
   "execution_count": null,
   "metadata": {},
   "outputs": [],
   "source": []
  }
 ],
 "metadata": {
  "kernelspec": {
   "display_name": "Python 3.10.4 64-bit",
   "language": "python",
   "name": "python3"
  },
  "language_info": {
   "codemirror_mode": {
    "name": "ipython",
    "version": 3
   },
   "file_extension": ".py",
   "mimetype": "text/x-python",
   "name": "python",
   "nbconvert_exporter": "python",
   "pygments_lexer": "ipython3",
   "version": "3.10.4"
  },
  "orig_nbformat": 4,
  "vscode": {
   "interpreter": {
    "hash": "396e7bfca9e906fe633988d38999d3cf204d3f6e6835d43081b07194a71f649a"
   }
  }
 },
 "nbformat": 4,
 "nbformat_minor": 2
}
